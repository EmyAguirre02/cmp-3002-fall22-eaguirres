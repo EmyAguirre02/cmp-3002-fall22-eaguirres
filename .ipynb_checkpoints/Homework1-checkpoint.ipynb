{
 "cells": [
  {
   "cell_type": "markdown",
   "id": "cce73fc7",
   "metadata": {},
   "source": [
    "# Homework 1\n",
    "\n",
    "#### Nombre: María Emilia Aguirre\n",
    "#### NRC: 2075\n",
    "#### Fecha: 04 / 10 / 2022"
   ]
  },
  {
   "cell_type": "markdown",
   "id": "62e9e9fd",
   "metadata": {},
   "source": [
    "**1. Assume we implemented an algorithm that has complexity approximately $nlog(n)$. How much faster is this implementation compared to one of complexity $n^2$?**"
   ]
  },
  {
   "cell_type": "markdown",
   "id": "be51b8d5",
   "metadata": {},
   "source": [
    "Esta pregunta se responderá mediante un análisis matemático, de la siguiente manera:\n",
    "                $2^n > 2 ^{log_2 (n)}$                                               \n",
    "                $2^n > n$\n",
    "    \n",
    "De esta manera queda demostrado que es más rápida la implementación de $nlog(n)$, a comparación con uno de complejidad \n",
    "$n^2$."
   ]
  },
  {
   "cell_type": "markdown",
   "id": "2a061730",
   "metadata": {},
   "source": [
    "**2. The runtime of an algorithm is captured in the following table:\n",
    "As precissely as possible, estimate the function that describes the growth of the runtime.**"
   ]
  },
  {
   "cell_type": "code",
   "execution_count": 6,
   "id": "e5191dfa",
   "metadata": {},
   "outputs": [
    {
     "data": {
      "text/html": [
       "<div>\n",
       "<style scoped>\n",
       "    .dataframe tbody tr th:only-of-type {\n",
       "        vertical-align: middle;\n",
       "    }\n",
       "\n",
       "    .dataframe tbody tr th {\n",
       "        vertical-align: top;\n",
       "    }\n",
       "\n",
       "    .dataframe thead th {\n",
       "        text-align: right;\n",
       "    }\n",
       "</style>\n",
       "<table border=\"1\" class=\"dataframe\">\n",
       "  <thead>\n",
       "    <tr style=\"text-align: right;\">\n",
       "      <th></th>\n",
       "      <th>n</th>\n",
       "      <th>Runtime--T (n)</th>\n",
       "    </tr>\n",
       "  </thead>\n",
       "  <tbody>\n",
       "    <tr>\n",
       "      <th>0</th>\n",
       "      <td>1000</td>\n",
       "      <td>0.00</td>\n",
       "    </tr>\n",
       "    <tr>\n",
       "      <th>1</th>\n",
       "      <td>2000</td>\n",
       "      <td>0.02</td>\n",
       "    </tr>\n",
       "    <tr>\n",
       "      <th>2</th>\n",
       "      <td>4000</td>\n",
       "      <td>0.20</td>\n",
       "    </tr>\n",
       "    <tr>\n",
       "      <th>3</th>\n",
       "      <td>8000</td>\n",
       "      <td>0.60</td>\n",
       "    </tr>\n",
       "    <tr>\n",
       "      <th>4</th>\n",
       "      <td>16000</td>\n",
       "      <td>2.60</td>\n",
       "    </tr>\n",
       "    <tr>\n",
       "      <th>5</th>\n",
       "      <td>32000</td>\n",
       "      <td>10.40</td>\n",
       "    </tr>\n",
       "    <tr>\n",
       "      <th>6</th>\n",
       "      <td>64000</td>\n",
       "      <td>41.60</td>\n",
       "    </tr>\n",
       "  </tbody>\n",
       "</table>\n",
       "</div>"
      ],
      "text/plain": [
       "       n  Runtime--T (n)\n",
       "0   1000            0.00\n",
       "1   2000            0.02\n",
       "2   4000            0.20\n",
       "3   8000            0.60\n",
       "4  16000            2.60\n",
       "5  32000           10.40\n",
       "6  64000           41.60"
      ]
     },
     "execution_count": 6,
     "metadata": {},
     "output_type": "execute_result"
    }
   ],
   "source": [
    "# Para resolver este ejercicio se empleará Pandas y matplotlib. De la\n",
    "# siguiente manera:\n",
    "\n",
    "import pandas as pd\n",
    "from matplotlib import pyplot as plt \n",
    "\n",
    "x = [1000, 2000, 4000, 8000, 16000, 32000, 64000]\n",
    "y = [0.00, 0.02, 0.20, 0.60, 2.60, 10.40, 41.60]\n",
    "\n",
    "# Se crea un DataFrame\n",
    "df = pd.DataFrame (zip(x, y))\n",
    "\n",
    "# Se renombra las columnas\n",
    "df.columns = ['n', 'Runtime--T (n)']\n",
    "df"
   ]
  },
  {
   "cell_type": "code",
   "execution_count": 11,
   "id": "1161b0dd",
   "metadata": {},
   "outputs": [
    {
     "data": {
      "image/png": "[encoded data removed]",
      "text/plain": [
       "<Figure size 432x288 with 1 Axes>"
      ]
     },
     "metadata": {
      "needs_background": "light"
     },
     "output_type": "display_data"
    }
   ],
   "source": [
    "# Se grafica\n",
    "df.plot (x='n', y= 'Runtime--T (n)')\n",
    "plt.grid()\n",
    "\n",
    "# Fuente: https://ourcodingclub.github.io/tutorials/pandas-python-intro/"
   ]
  },
  {
   "cell_type": "markdown",
   "id": "586fccf3",
   "metadata": {},
   "source": [
    "Por último se estimó que la función que mejor describe el crecimiento, es la siguiente función cuadrática: $ 2773,8x^2 - 12869x + 141434$ "
   ]
  },
  {
   "cell_type": "markdown",
   "id": "b317d06a",
   "metadata": {},
   "source": [
    "**4. From class, remember the code we use to get the sum of the first n positive integers:**\n"
   ]
  },
  {
   "cell_type": "code",
   "execution_count": 3,
   "id": "2862149f",
   "metadata": {},
   "outputs": [
    {
     "name": "stdout",
     "output_type": "stream",
     "text": [
      "Pruebas\n",
      "n = 5\n",
      "Loop:\n"
     ]
    },
    {
     "ename": "AttributeError",
     "evalue": "'function' object has no attribute 'time'",
     "output_type": "error",
     "traceback": [
      "\u001b[0;31m---------------------------------------------------------------------------\u001b[0m",
      "\u001b[0;31mAttributeError\u001b[0m                            Traceback (most recent call last)",
      "Input \u001b[0;32mIn [3]\u001b[0m, in \u001b[0;36m<cell line: 47>\u001b[0;34m()\u001b[0m\n\u001b[1;32m     47\u001b[0m \u001b[38;5;28;01mif\u001b[39;00m \u001b[38;5;18m__name__\u001b[39m \u001b[38;5;241m==\u001b[39m \u001b[38;5;124m\"\u001b[39m\u001b[38;5;124m__main__\u001b[39m\u001b[38;5;124m\"\u001b[39m:\n\u001b[1;32m     48\u001b[0m     \u001b[38;5;28mprint\u001b[39m(\u001b[38;5;124m\"\u001b[39m\u001b[38;5;124mPruebas\u001b[39m\u001b[38;5;124m\"\u001b[39m)\n\u001b[0;32m---> 49\u001b[0m     \u001b[43mmain\u001b[49m\u001b[43m(\u001b[49m\u001b[38;5;241;43m5\u001b[39;49m\u001b[43m)\u001b[49m\n\u001b[1;32m     50\u001b[0m     main(\u001b[38;5;241m8\u001b[39m)\n\u001b[1;32m     51\u001b[0m     main(\u001b[38;5;241m103\u001b[39m)\n",
      "Input \u001b[0;32mIn [3]\u001b[0m, in \u001b[0;36mmain\u001b[0;34m(n)\u001b[0m\n\u001b[1;32m     40\u001b[0m \u001b[38;5;28;01mdef\u001b[39;00m \u001b[38;5;21mmain\u001b[39m(n):\n\u001b[1;32m     41\u001b[0m     \u001b[38;5;28mprint\u001b[39m(\u001b[38;5;124m\"\u001b[39m\u001b[38;5;124mn = \u001b[39m\u001b[38;5;124m\"\u001b[39m \u001b[38;5;241m+\u001b[39m \u001b[38;5;28mstr\u001b[39m(n) \u001b[38;5;241m+\u001b[39m \u001b[38;5;124m\"\u001b[39m\u001b[38;5;130;01m\\n\u001b[39;00m\u001b[38;5;124mLoop:\u001b[39m\u001b[38;5;124m\"\u001b[39m)\n\u001b[0;32m---> 42\u001b[0m     \u001b[43msum1\u001b[49m\u001b[43m(\u001b[49m\u001b[43mn\u001b[49m\u001b[43m)\u001b[49m\n\u001b[1;32m     43\u001b[0m     \u001b[38;5;28mprint\u001b[39m(\u001b[38;5;124m\"\u001b[39m\u001b[38;5;124mAdición:\u001b[39m\u001b[38;5;124m\"\u001b[39m)\n\u001b[1;32m     44\u001b[0m     sum2(n)\n",
      "Input \u001b[0;32mIn [3]\u001b[0m, in \u001b[0;36msum1\u001b[0;34m(n)\u001b[0m\n\u001b[1;32m     33\u001b[0m \u001b[38;5;28;01mdef\u001b[39;00m \u001b[38;5;21msum1\u001b[39m(n):\n\u001b[0;32m---> 34\u001b[0m     t0 \u001b[38;5;241m=\u001b[39m \u001b[43mtime\u001b[49m\u001b[38;5;241;43m.\u001b[39;49m\u001b[43mtime\u001b[49m()\n\u001b[1;32m     35\u001b[0m     total \u001b[38;5;241m=\u001b[39m \u001b[38;5;241m0\u001b[39m\n\u001b[1;32m     36\u001b[0m     \u001b[38;5;28;01mfor\u001b[39;00m x \u001b[38;5;129;01min\u001b[39;00m \u001b[38;5;28mrange\u001b[39m(\u001b[38;5;241m1\u001b[39m,n\u001b[38;5;241m+\u001b[39m\u001b[38;5;241m1\u001b[39m):\n",
      "\u001b[0;31mAttributeError\u001b[0m: 'function' object has no attribute 'time'"
     ]
    }
   ],
   "source": [
    "# Se parte de la librería \"time\" de python para estimar \n",
    "# el tiempo de ejecución.\n",
    "\n",
    "from time import time \n",
    "from pandas import DataFrame\n",
    "import matplotlib\n",
    "import matplotlib.pyplot as plt\n",
    "matplotlib.use ('TkAgg')\n",
    "\n",
    "def time (function):\n",
    "    def interior (args):\n",
    "        beginning = time() * 10 ** 9\n",
    "        result = function (args)\n",
    "        ending = time () * 10 ** 9\n",
    "        print (\"El Tiempo de ejecución es:\" + str (ending - beginning) + \"\\n Suma = \" + str(result) + \"\\n\")\n",
    "        return result, ending  - beginning\n",
    "\n",
    "    return interior\n",
    "\n",
    "# Se emplea emplea el código visto en clase para obtener la suma de los primeros números\n",
    "# enteros positivos.\n",
    "\n",
    "def sum1(n):\n",
    "    total = 0\n",
    "    for i in range(1, n+1):\n",
    "        total += i\n",
    "    return total\n",
    "\n",
    "def sum2(n): \n",
    "    total = n*(n+1)//2\n",
    "    return total\n",
    "\n",
    "def sum1(n):\n",
    "    t0 = time.time()\n",
    "    total = 0\n",
    "    for x in range(1,n+1):\n",
    "        total += x\n",
    "    return total, time.time() - t0\n",
    "\n",
    "def main(n):\n",
    "    print(\"n = \" + str(n) + \"\\nLoop:\")\n",
    "    sum1(n)\n",
    "    print(\"Adición:\")\n",
    "    sum2(n)\n",
    "\n",
    "\n",
    "if __name__ == \"__main__\":\n",
    "    print(\"Pruebas\")\n",
    "    main(5)\n",
    "    main(8)\n",
    "    main(103)\n",
    "    main(527)\n",
    "    print(\"Tiempo\")\n",
    "    ejecucion1 = [sum1(x)[1] for x in [1, 10, 100, 1000, 10000, 100000, 1000000, 10000000, 100000000, 1000000000]]\n",
    "    ejecucion2 = [sum2(x)[1] for x in [1, 10, 100, 1000, 10000, 100000, 1000000, 10000000, 100000000, 1000000000]]\n",
    "    x = [1, 10, 100, 1000, 10000, 100000, 1000000, 10000000, 100000000, 1000000000]\n",
    "    print(\"Tiempo de Ejecucion Sum1:\", ejecucion1)\n",
    "    print(\"Tiempo de Ejecucion Sum2:\", ejecucion2)\n",
    "    \n",
    "#Se realiza la gráfica\n",
    "    plt.plot(x, ejecucion1, label=\"Suma1\")\n",
    "    plt.plot(x, ejecucion2, label=\"Suma2\")\n",
    "    plt.grid()\n",
    "    plt.show()\n",
    "    \n",
    "# Fuentes: https://www.geeksforgeeks.org/timing-functions-with-decorators-python/\n",
    "# https://matplotlib.org/stable/tutorials/introductory/pyplot.html"
   ]
  },
  {
   "cell_type": "markdown",
   "id": "c7f427aa",
   "metadata": {},
   "source": [
    "**5. Prove that the running time of an algorithm is**"
   ]
  },
  {
   "cell_type": "markdown",
   "id": "ef199c3a",
   "metadata": {},
   "source": [
    "Se asume que el tiempo de ejecución del algoritmo es: \n",
    "    $f(n) = \\Theta (g(n))$\n",
    "\n",
    "Los límites se pueden determinar mediante la inecuación, cuando \n",
    "    $ n \\geq n_0$, por lo tanto:\n",
    "    \n",
    "**Límite Superior (Peor Caso) =**\n",
    "    $C_1 g(n)$\n",
    "    \n",
    "**Límite Inferior (Mejor Caso) =**\n",
    "    $C_2 g(n)$\n",
    "    \n",
    "Por lo tanto, se reescribe de la siguiente manera:\n",
    "\n",
    "$0 \\leq C_1 g(n) \\leq f(n) \\leq C_2 g(n) $\n",
    "\n",
    "$0 \\leq f(n) \\leq C_2 g(n)$ muestra $f(n) = 0(g(n))$\n",
    "\n",
    "$0 \\leq C_1 g(n) \\leq f(n)$ muestra $f(n) = \\Omega(g(n))$\n",
    "\n",
    "Por lo tanto queda demostrado.\n",
    "\n",
    "\n"
   ]
  },
  {
   "cell_type": "markdown",
   "id": "42d3657d",
   "metadata": {},
   "source": [
    "**6. Sort the following functions in decreasing order of asymptotic complexity**\n"
   ]
  },
  {
   "cell_type": "markdown",
   "id": "7c5f7ff0",
   "metadata": {},
   "source": [
    "$f_2 (n) \\leq f_1 (n) \\leq f_4 (n) \\leq f_3 (n)$"
   ]
  },
  {
   "cell_type": "markdown",
   "id": "43078103",
   "metadata": {},
   "source": [
    "**7.  Implement the methods of the class Array that deal with deletion of elements. Consider the 3 cases we considered in class.**\n",
    "\n"
   ]
  },
  {
   "cell_type": "code",
   "execution_count": 10,
   "id": "9672b19f",
   "metadata": {},
   "outputs": [
    {
     "ename": "IndentationError",
     "evalue": "unexpected indent (2526819232.py, line 5)",
     "output_type": "error",
     "traceback": [
      "\u001b[0;36m  Input \u001b[0;32mIn [10]\u001b[0;36m\u001b[0m\n\u001b[0;31m    def delete_tail(self):\u001b[0m\n\u001b[0m    ^\u001b[0m\n\u001b[0;31mIndentationError\u001b[0m\u001b[0;31m:\u001b[0m unexpected indent\n"
     ]
    }
   ],
   "source": [
    "# Me basé en el código empleado en clase de la semana 4, para realizar\n",
    "# este ejercicio.\n",
    "\n",
    "    \n",
    "    def delete_tail(self):\n",
    "        if self.1 == 0:\n",
    "            raise ValueError(\"No existen elementos disponibles para eliminar!\")\n",
    "        self.array[self.1-1] = None\n",
    "        self.1 -= 1\n",
    "        \n",
    "    def delete_head(self):\n",
    "        if self.1 == 0:\n",
    "            raise ValueError(\"No existen elementos disponibles para eliminar!\")\n",
    "        self.array[0] = None\n",
    "        for i in range (0, self.1-1):\n",
    "            self.array[i] = self. array [i+1]\n",
    "        self.1 -= 1\n",
    "        self.array [self.1] = None\n",
    "        \n",
    "    def delete (self, index):\n",
    "        if (indice < 0) or (indice >= self.1):\n",
    "            raise ValueError(\"Indice fuera de rango\")\n",
    "            \n",
    "    self.array [indice] = None\n",
    "     for i in range (indice, self.1-1):\n",
    "            self.array[i] = self. array [i+1]\n",
    "            \n",
    "    self.1 -= 1\n",
    "     self.array [self.1] = None\n"
   ]
  },
  {
   "cell_type": "code",
   "execution_count": null,
   "id": "52092b28",
   "metadata": {},
   "outputs": [],
   "source": []
  }
 ],
 "metadata": {
  "kernelspec": {
   "display_name": "Python 3 (ipykernel)",
   "language": "python",
   "name": "python3"
  },
  "language_info": {
   "codemirror_mode": {
    "name": "ipython",
    "version": 3
   },
   "file_extension": ".py",
   "mimetype": "text/x-python",
   "name": "python",
   "nbconvert_exporter": "python",
   "pygments_lexer": "ipython3",
   "version": "3.9.12"
  }
 },
 "nbformat": 4,
 "nbformat_minor": 5
}
