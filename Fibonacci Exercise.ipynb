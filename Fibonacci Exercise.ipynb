{
 "cells": [
  {
   "cell_type": "code",
   "execution_count": 2,
   "id": "602a46d0",
   "metadata": {},
   "outputs": [],
   "source": [
    "#Memoization - example\n",
    "\n",
    "def Factorial (n):\n",
    "    cache = {}\n",
    "    \n",
    "    def recursive_factorial (n):\n",
    "        if n in cache.keys ():\n",
    "            return cache [n]\n",
    "            \n",
    "        if n == 0:\n",
    "            res = 1\n",
    "        elif n == 1:\n",
    "            res = 1\n",
    "        else:\n",
    "            res = n*recursive_factorial(n-1)\n",
    "        cache [n] = res\n",
    "        return res \n",
    "        \n",
    "    return recursive_factorial(n)\n",
    "\n"
   ]
  },
  {
   "cell_type": "code",
   "execution_count": 3,
   "id": "17432be8",
   "metadata": {},
   "outputs": [
    {
     "data": {
      "text/plain": [
       "6"
      ]
     },
     "execution_count": 3,
     "metadata": {},
     "output_type": "execute_result"
    }
   ],
   "source": [
    "Factorial (3)"
   ]
  },
  {
   "cell_type": "code",
   "execution_count": null,
   "id": "eaff4515",
   "metadata": {},
   "outputs": [],
   "source": []
  }
 ],
 "metadata": {
  "kernelspec": {
   "display_name": "Python 3 (ipykernel)",
   "language": "python",
   "name": "python3"
  },
  "language_info": {
   "codemirror_mode": {
    "name": "ipython",
    "version": 3
   },
   "file_extension": ".py",
   "mimetype": "text/x-python",
   "name": "python",
   "nbconvert_exporter": "python",
   "pygments_lexer": "ipython3",
   "version": "3.9.12"
  }
 },
 "nbformat": 4,
 "nbformat_minor": 5
}
