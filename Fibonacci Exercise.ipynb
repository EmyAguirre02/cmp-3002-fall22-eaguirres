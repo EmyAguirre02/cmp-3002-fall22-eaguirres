{
 "cells": [
  {
   "cell_type": "code",
   "execution_count": null,
   "id": "602a46d0",
   "metadata": {},
   "outputs": [],
   "source": [
    "\"\"\"\"\n",
    "Memoization - example\n",
    "\n",
    "def Fibonacci (n):\n",
    "    cache = {}\n",
    "    \n",
    "    def recursive_fibonacci (n):\n",
    "        if n in cache.keys ():\n",
    "            return cache [n]\n",
    "            \n",
    "        if n == 0;\n",
    "            res = 0\n",
    "        elif n == 1:\n",
    "            res = 1\n",
    "        else:\n",
    "            res = recursive_fibonacci (n-1) + recursive_fibonacci (n-2)\n",
    "        \n",
    "        cache [n] = res\n",
    "        return res \n",
    "        \n",
    "    return recursive_fibonacci (n)\n",
    "\"\"\"\n",
    "\n",
    "#Using lists"
   ]
  }
 ],
 "metadata": {
  "kernelspec": {
   "display_name": "Python 3 (ipykernel)",
   "language": "python",
   "name": "python3"
  },
  "language_info": {
   "codemirror_mode": {
    "name": "ipython",
    "version": 3
   },
   "file_extension": ".py",
   "mimetype": "text/x-python",
   "name": "python",
   "nbconvert_exporter": "python",
   "pygments_lexer": "ipython3",
   "version": "3.9.12"
  }
 },
 "nbformat": 4,
 "nbformat_minor": 5
}
