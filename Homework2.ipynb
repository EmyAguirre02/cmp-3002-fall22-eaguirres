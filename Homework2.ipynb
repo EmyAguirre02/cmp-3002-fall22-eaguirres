{
 "cells": [
  {
   "cell_type": "markdown",
   "id": "9e458da0",
   "metadata": {},
   "source": [
    "# Homework 2\n",
    "\n",
    "#### Nombre: María Emilia Aguirre\n",
    "#### NRC: 2075\n",
    "#### Fecha: 18 / 10 / 2022"
   ]
  },
  {
   "cell_type": "markdown",
   "id": "170cd5f8",
   "metadata": {},
   "source": [
    "**1. Implement the class Stacks and all its methods using singly linked lists. Analyze the runtime and memory complexity, and compare with what we studied in class**"
   ]
  },
  {
   "cell_type": "markdown",
   "id": "0894a805",
   "metadata": {},
   "source": [
    "### Answer:"
   ]
  },
  {
   "cell_type": "code",
   "execution_count": 5,
   "id": "77dff84b",
   "metadata": {},
   "outputs": [
    {
     "name": "stdout",
     "output_type": "stream",
     "text": [
      "44 -> 33 -> 22 -> 11 -> \n",
      "Top element is  44\n",
      "22 -> 11 -> \n",
      "Top element is  22\n"
     ]
    }
   ],
   "source": [
    "class Node:\n",
    " \n",
    "    # Class to create nodes of linked list\n",
    "    # constructor initializes node automatically\n",
    "    def __init__(self, data):\n",
    "        self.data = data\n",
    "        self.next = None\n",
    " \n",
    " \n",
    "class Stack:\n",
    " \n",
    "    # head is default NULL\n",
    "    def __init__(self):\n",
    "        self.head = None\n",
    " \n",
    "    # Checks if stack is empty\n",
    "    def isempty(self):\n",
    "        if self.head == None:\n",
    "            return True\n",
    "        else:\n",
    "            return False\n",
    " \n",
    "    # Method to add data to the stack\n",
    "    # adds to the start of the stack\n",
    "    def push(self, data):\n",
    " \n",
    "        if self.head == None:\n",
    "            self.head = Node(data)\n",
    " \n",
    "        else:\n",
    "            newnode = Node(data)\n",
    "            newnode.next = self.head\n",
    "            self.head = newnode\n",
    " \n",
    "    # Remove element that is the current head (start of the stack)\n",
    "    def pop(self):\n",
    " \n",
    "        if self.isempty():\n",
    "            return None\n",
    " \n",
    "        else:\n",
    "            # Removes the head node and makes\n",
    "            # the preceding one the new head\n",
    "            poppednode = self.head\n",
    "            self.head = self.head.next\n",
    "            poppednode.next = None\n",
    "            return poppednode.data\n",
    " \n",
    "    # Returns the head node data\n",
    "    def peek(self):\n",
    " \n",
    "        if self.isempty():\n",
    "            return None\n",
    " \n",
    "        else:\n",
    "            return self.head.data\n",
    " \n",
    "    # Prints out the stack\n",
    "    def display(self):\n",
    " \n",
    "        iternode = self.head\n",
    "        if self.isempty():\n",
    "            print(\"Stack Underflow\")\n",
    " \n",
    "        else:\n",
    " \n",
    "            while(iternode != None):\n",
    " \n",
    "                print(iternode.data, \"->\", end=\" \")\n",
    "                iternode = iternode.next\n",
    "            return\n",
    " \n",
    " \n",
    "# Driver code\n",
    "if __name__ == \"__main__\":\n",
    "  MyStack = Stack()\n",
    "   \n",
    "  MyStack.push(11)\n",
    "  MyStack.push(22)\n",
    "  MyStack.push(33)\n",
    "  MyStack.push(44)\n",
    " \n",
    "  # Display stack elements\n",
    "  MyStack.display()\n",
    " \n",
    "  # Print top element of stack\n",
    "  print(\"\\nTop element is \", MyStack.peek())\n",
    " \n",
    "  # Delete top elements of stack\n",
    "  MyStack.pop()\n",
    "  MyStack.pop()\n",
    " \n",
    "  # Display stack elements\n",
    "  MyStack.display()\n",
    " \n",
    "  # Print top element of stack\n",
    "  print(\"\\nTop element is \", MyStack.peek())\n",
    " "
   ]
  },
  {
   "cell_type": "markdown",
   "id": "881a218b",
   "metadata": {},
   "source": [
    "**2. Write a method part of the linked list class that will reverse the linked list. Your implementation should visit each node in the list only one time, and should use O(1)of extra memory.**"
   ]
  },
  {
   "cell_type": "markdown",
   "id": "0dd4b2be",
   "metadata": {},
   "source": [
    "### Answer:"
   ]
  },
  {
   "cell_type": "code",
   "execution_count": 7,
   "id": "092b27b3",
   "metadata": {},
   "outputs": [
    {
     "ename": "SyntaxError",
     "evalue": "Missing parentheses in call to 'print'. Did you mean print(\"Given Linked List\")? (3654308078.py, line 54)",
     "output_type": "error",
     "traceback": [
      "\u001b[0;36m  Input \u001b[0;32mIn [7]\u001b[0;36m\u001b[0m\n\u001b[0;31m    print \"Given Linked List\"\u001b[0m\n\u001b[0m          ^\u001b[0m\n\u001b[0;31mSyntaxError\u001b[0m\u001b[0;31m:\u001b[0m Missing parentheses in call to 'print'. Did you mean print(\"Given Linked List\")?\n"
     ]
    }
   ],
   "source": [
    "# Python program to reverse a linked list\n",
    "# Time Complexity : O(n)\n",
    "# Space Complexity : O(1)\n",
    " \n",
    "# Node class\n",
    " \n",
    " \n",
    "class Node:\n",
    " \n",
    "    # Constructor to initialize the node object\n",
    "    def __init__(self, data):\n",
    "        self.data = data\n",
    "        self.next = None\n",
    " \n",
    " \n",
    "class LinkedList:\n",
    " \n",
    "    # Function to initialize head\n",
    "    def __init__(self):\n",
    "        self.head = None\n",
    " \n",
    "    # Function to reverse the linked list\n",
    "    def reverse(self):\n",
    "        prev = None\n",
    "        current = self.head\n",
    "        while(current is not None):\n",
    "            next = current.next\n",
    "            current.next = prev\n",
    "            prev = current\n",
    "            current = next\n",
    "        self.head = prev\n",
    " \n",
    "    # Function to insert a new node at the beginning\n",
    "    def push(self, new_data):\n",
    "        new_node = Node(new_data)\n",
    "        new_node.next = self.head\n",
    "        self.head = new_node\n",
    " \n",
    "    # Utility function to print the linked LinkedList\n",
    "    def printList(self):\n",
    "        temp = self.head\n",
    "        while(temp):\n",
    "            print (temp.data, end=\" \"),\n",
    "            temp = temp.next\n",
    " \n",
    " \n",
    "# Driver code\n",
    "llist = LinkedList()\n",
    "llist.push(20)\n",
    "llist.push(4)\n",
    "llist.push(15)\n",
    "llist.push(85)\n",
    " \n",
    "print \"Given Linked List\"\n",
    "llist.printList()\n",
    "llist.reverse()\n",
    "print \"\\nReversed Linked List\"\n",
    "llist.printList()"
   ]
  },
  {
   "cell_type": "markdown",
   "id": "0a1ed21a",
   "metadata": {},
   "source": [
    "**3. Implement the class Queue using stacks.**"
   ]
  },
  {
   "cell_type": "markdown",
   "id": "45c96398",
   "metadata": {},
   "source": [
    "### Answer:"
   ]
  },
  {
   "cell_type": "code",
   "execution_count": 8,
   "id": "5053679f",
   "metadata": {},
   "outputs": [
    {
     "name": "stdout",
     "output_type": "stream",
     "text": [
      "1\n",
      "2\n",
      "3\n"
     ]
    }
   ],
   "source": [
    "class Queue:\n",
    "    def __init__(self):\n",
    "        self.s1 = []\n",
    "        self.s2 = []\n",
    " \n",
    "    def enQueue(self, x):\n",
    "         \n",
    "        # Move all elements from s1 to s2\n",
    "        while len(self.s1) != 0:\n",
    "            self.s2.append(self.s1[-1])\n",
    "            self.s1.pop()\n",
    " \n",
    "        # Push item into self.s1\n",
    "        self.s1.append(x)\n",
    " \n",
    "        # Push everything back to s1\n",
    "        while len(self.s2) != 0:\n",
    "            self.s1.append(self.s2[-1])\n",
    "            self.s2.pop()\n",
    " \n",
    "    # Dequeue an item from the queue\n",
    "    def deQueue(self):\n",
    "         \n",
    "            # if first stack is empty\n",
    "        if len(self.s1) == 0:\n",
    "            print(\"Q is Empty\")\n",
    "     \n",
    "        # Return top of self.s1\n",
    "        x = self.s1[-1]\n",
    "        self.s1.pop()\n",
    "        return x\n",
    " \n",
    "# Driver code\n",
    "if __name__ == '__main__':\n",
    "    q = Queue()\n",
    "    q.enQueue(1)\n",
    "    q.enQueue(2)\n",
    "    q.enQueue(3)\n",
    " \n",
    "    print(q.deQueue())\n",
    "    print(q.deQueue())\n",
    "    print(q.deQueue())"
   ]
  },
  {
   "cell_type": "markdown",
   "id": "b176f7ab",
   "metadata": {},
   "source": [
    "**4. Complete the PriorityQueue class, so that when we call dequeue, the element with the highest priority will be returned. Analyze the complexity of runtime and memory of the enqueue and dequeue methods.**"
   ]
  },
  {
   "cell_type": "markdown",
   "id": "403ba740",
   "metadata": {},
   "source": [
    "### Answer:"
   ]
  },
  {
   "cell_type": "code",
   "execution_count": 2,
   "id": "3daed38b",
   "metadata": {},
   "outputs": [
    {
     "name": "stdout",
     "output_type": "stream",
     "text": [
      "16\n"
     ]
    },
    {
     "ename": "TypeError",
     "evalue": "unsupported operand type(s) for -=: 'list' and 'int'",
     "output_type": "error",
     "traceback": [
      "\u001b[0;31m---------------------------------------------------------------------------\u001b[0m",
      "\u001b[0;31mTypeError\u001b[0m                                 Traceback (most recent call last)",
      "Input \u001b[0;32mIn [2]\u001b[0m, in \u001b[0;36m<cell line: 76>\u001b[0;34m()\u001b[0m\n\u001b[1;32m     74\u001b[0m         \u001b[38;5;28mprint\u001b[39m(priorityQueue\u001b[38;5;241m.\u001b[39mpr[ind]\u001b[38;5;241m.\u001b[39mvalue)\n\u001b[1;32m     76\u001b[0m \u001b[38;5;28;01mif\u001b[39;00m \u001b[38;5;18m__name__\u001b[39m\u001b[38;5;241m==\u001b[39m\u001b[38;5;124m\"\u001b[39m\u001b[38;5;124m__main__\u001b[39m\u001b[38;5;124m\"\u001b[39m:\n\u001b[0;32m---> 77\u001b[0m     \u001b[43mpriorityQueue\u001b[49m\u001b[38;5;241;43m.\u001b[39;49m\u001b[43mmain\u001b[49m\u001b[43m(\u001b[49m\u001b[43m[\u001b[49m\u001b[43m]\u001b[49m\u001b[43m)\u001b[49m\n",
      "Input \u001b[0;32mIn [2]\u001b[0m, in \u001b[0;36mpriorityQueue.main\u001b[0;34m(args)\u001b[0m\n\u001b[1;32m     63\u001b[0m ind \u001b[38;5;241m=\u001b[39m priorityQueue\u001b[38;5;241m.\u001b[39mpeek()\n\u001b[1;32m     64\u001b[0m \u001b[38;5;28mprint\u001b[39m(priorityQueue\u001b[38;5;241m.\u001b[39mpr[ind]\u001b[38;5;241m.\u001b[39mvalue)\n\u001b[0;32m---> 66\u001b[0m \u001b[43mpriorityQueue\u001b[49m\u001b[38;5;241;43m.\u001b[39;49m\u001b[43mdequeue\u001b[49m\u001b[43m(\u001b[49m\u001b[43m)\u001b[49m\n\u001b[1;32m     68\u001b[0m ind \u001b[38;5;241m=\u001b[39m priorityQueue\u001b[38;5;241m.\u001b[39mpeek()\n\u001b[1;32m     69\u001b[0m \u001b[38;5;28mprint\u001b[39m(priorityQueue\u001b[38;5;241m.\u001b[39mpr[ind]\u001b[38;5;241m.\u001b[39mvalue)\n",
      "Input \u001b[0;32mIn [2]\u001b[0m, in \u001b[0;36mpriorityQueue.dequeue\u001b[0;34m()\u001b[0m\n\u001b[1;32m     47\u001b[0m     priorityQueue\u001b[38;5;241m.\u001b[39mpr[i] \u001b[38;5;241m=\u001b[39m priorityQueue\u001b[38;5;241m.\u001b[39mpr[i \u001b[38;5;241m+\u001b[39m \u001b[38;5;241m1\u001b[39m]\n\u001b[1;32m     48\u001b[0m     i \u001b[38;5;241m+\u001b[39m\u001b[38;5;241m=\u001b[39m \u001b[38;5;241m1\u001b[39m\n\u001b[0;32m---> 51\u001b[0m priorityQueue\u001b[38;5;241m.\u001b[39mpr \u001b[38;5;241m-\u001b[39m\u001b[38;5;241m=\u001b[39m \u001b[38;5;241m1\u001b[39m\n",
      "\u001b[0;31mTypeError\u001b[0m: unsupported operand type(s) for -=: 'list' and 'int'"
     ]
    }
   ],
   "source": [
    "import sys\n",
    " \n",
    "class item :\n",
    "    value = 0\n",
    "    priority = 0\n",
    "class priorityQueue :\n",
    "   \n",
    "    pr = [None] * (100000)\n",
    "     \n",
    "    tamanio = -1\n",
    "     \n",
    "    def enqueue( value,  priority) :\n",
    "       \n",
    "        priorityQueue.tamanio += 1\n",
    "         \n",
    "        priorityQueue.pr[priorityQueue.tamanio] = item()\n",
    "        priorityQueue.pr[priorityQueue.tamanio].value = value\n",
    "        priorityQueue.pr[priorityQueue.tamanio].priority = priority\n",
    "         \n",
    "    @staticmethod\n",
    "    def  peek() :\n",
    "        highest = -sys.maxsize\n",
    "        ind = -1\n",
    "         \n",
    "        i = 0\n",
    "        while (i <= priorityQueue.tamanio) :\n",
    "           \n",
    "    \n",
    "            if (highest == priorityQueue.pr[i].priority and ind > -1 and priorityQueue.pr[ind].value < priorityQueue.pr[i].value) :\n",
    "                highest = priorityQueue.pr[i].priority\n",
    "                ind = i\n",
    "            elif(highest < priorityQueue.pr[i].priority) :\n",
    "                highest = priorityQueue.pr[i].priority\n",
    "                ind = i\n",
    "            i += 1\n",
    "             \n",
    "        return ind\n",
    "       \n",
    "    @staticmethod\n",
    "    def dequeue() :\n",
    "\n",
    "        ind = priorityQueue.peek()\n",
    "         \n",
    "\n",
    "        i = ind\n",
    "        while (i < priorityQueue.tamanio) :\n",
    "            priorityQueue.pr[i] = priorityQueue.pr[i + 1]\n",
    "            i += 1\n",
    "             \n",
    "       \n",
    "        priorityQueue.pr -= 1\n",
    "        \n",
    "    @staticmethod\n",
    "    def main( args) :\n",
    "       \n",
    "        \n",
    "        priorityQueue.enqueue(10, 2)\n",
    "        priorityQueue.enqueue(14, 4)\n",
    "        priorityQueue.enqueue(16, 4)\n",
    "        priorityQueue.enqueue(12, 3)\n",
    "         \n",
    "       \n",
    "        ind = priorityQueue.peek()\n",
    "        print(priorityQueue.pr[ind].value)\n",
    "         \n",
    "        priorityQueue.dequeue()\n",
    "         \n",
    "        ind = priorityQueue.peek()\n",
    "        print(priorityQueue.pr[ind].value)\n",
    "         \n",
    "        priorityQueue.dequeue()\n",
    "         \n",
    "        ind = priorityQueue.peek()\n",
    "        print(priorityQueue.pr[ind].value)\n",
    "     \n",
    "if __name__==\"__main__\":\n",
    "    priorityQueue.main([])"
   ]
  },
  {
   "cell_type": "markdown",
   "id": "c249ff35",
   "metadata": {},
   "source": [
    "**5. 5. A given linked-list (singly or doubly) represents an integer number. For example, 345 is represented by the singly-linked list 3 -> 4 ->5. Write a Python program that does the following:**"
   ]
  },
  {
   "cell_type": "code",
   "execution_count": null,
   "id": "3929354b",
   "metadata": {},
   "outputs": [],
   "source": []
  }
 ],
 "metadata": {
  "kernelspec": {
   "display_name": "Python 3 (ipykernel)",
   "language": "python",
   "name": "python3"
  },
  "language_info": {
   "codemirror_mode": {
    "name": "ipython",
    "version": 3
   },
   "file_extension": ".py",
   "mimetype": "text/x-python",
   "name": "python",
   "nbconvert_exporter": "python",
   "pygments_lexer": "ipython3",
   "version": "3.9.12"
  }
 },
 "nbformat": 4,
 "nbformat_minor": 5
}
