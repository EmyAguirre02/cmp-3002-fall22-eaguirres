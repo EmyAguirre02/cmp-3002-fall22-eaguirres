{
 "cells": [
  {
   "cell_type": "markdown",
   "id": "3cc6d44c",
   "metadata": {},
   "source": [
    "# Homework 3\n",
    "\n",
    "#### Nombre: Maria Emilia Aguirre\n",
    "#### NRC: 2075\n",
    "#### Fecha: 17 / 11 / 2022"
   ]
  },
  {
   "cell_type": "markdown",
   "id": "23f80bed",
   "metadata": {},
   "source": [
    "# Exercise 1"
   ]
  },
  {
   "cell_type": "markdown",
   "id": "3c6a5137",
   "metadata": {},
   "source": [
    "**1. Merge two sorted lists\n",
    "Assume you have two sorted linked lists. Use recursion to merge these lists and return a new sorted list.**"
   ]
  },
  {
   "cell_type": "code",
   "execution_count": 6,
   "id": "21fb4748",
   "metadata": {},
   "outputs": [
    {
     "name": "stdout",
     "output_type": "stream",
     "text": [
      "La lista fusionada es:\n",
      "1 2 3 4 5 6 7 "
     ]
    }
   ],
   "source": [
    "class Node:\n",
    "    def __init__(self, data):\n",
    "        self.data = data\n",
    "        self.next = None\n",
    " \n",
    "class LList:\n",
    "    def __init__(self):\n",
    "        self.head = None\n",
    " \n",
    "    def print(self):\n",
    "        t = self.head\n",
    "        while t:\n",
    "            print(t.data, end=\" \")\n",
    "            t = t.next\n",
    " \n",
    "    def add(self, newData):\n",
    "        newNode = Node(newData)\n",
    "        if self.head is None:\n",
    "            self.head = newNode\n",
    "            return\n",
    " \n",
    "        last = self.head\n",
    "        while last.next:\n",
    "            last = last.next\n",
    " \n",
    "        last.next = newNode\n",
    " \n",
    "\n",
    "def merge(head1, head2):\n",
    " \n",
    "    EmNode = Node(0)\n",
    " \n",
    "    tail = EmNode\n",
    "    while True:\n",
    " \n",
    "        if head1 is None:\n",
    "            tail.next = head2\n",
    "            break\n",
    "        if head2 is None:\n",
    "            tail.next = head1\n",
    "            break\n",
    " \n",
    "        if head1.data <= head2.data:\n",
    "            tail.next = head1\n",
    "            head1 = head1.next\n",
    "        else:\n",
    "            tail.next = head2\n",
    "            head2 = head2.next\n",
    " \n",
    "        tail = tail.next\n",
    " \n",
    "    return EmNode.next\n",
    " \n",
    " \n",
    "list1 = LList()\n",
    "list2 = LList()\n",
    " \n",
    "list1.add(1)\n",
    "list1.add(3)\n",
    "list1.add(5)\n",
    "list1.add(7)\n",
    "\n",
    " \n",
    "list2.add(2)\n",
    "list2.add(4)\n",
    "list2.add(6)\n",
    " \n",
    "list1.head = merge(list1.head, list2.head)\n",
    " \n",
    "print(\"La lista fusionada es:\")\n",
    "list1.print()"
   ]
  },
  {
   "cell_type": "markdown",
   "id": "0eb48d7a",
   "metadata": {},
   "source": [
    "**2. Calculate complexity**"
   ]
  },
  {
   "cell_type": "markdown",
   "id": "663a6d63",
   "metadata": {},
   "source": [
    "La complejidad de tiempo del algoritmo **Merge Sort** es $O(n  log  n)$. Por otro lado, la complejidad de espacio del algoritmo es $O (n)$."
   ]
  },
  {
   "cell_type": "markdown",
   "id": "03849f33",
   "metadata": {},
   "source": [
    "# Exercise 2"
   ]
  },
  {
   "cell_type": "markdown",
   "id": "41204c5c",
   "metadata": {},
   "source": [
    "**1. Use the divide and conquer technique to implement the quick sort algorithm studied in class.**"
   ]
  },
  {
   "cell_type": "code",
   "execution_count": 44,
   "id": "19a8c5cf",
   "metadata": {},
   "outputs": [
    {
     "name": "stdout",
     "output_type": "stream",
     "text": [
      "[1, 1, 2, 3, 5, 9, 15, 20]\n"
     ]
    }
   ],
   "source": [
    "def qSort(list):\n",
    "    if len(list) <= 1:\n",
    "        return list\n",
    "    \n",
    "    piv = list.pop()\n",
    "    listA = []\n",
    "    listB = []\n",
    "    \n",
    "    for i in list:\n",
    "        if i <= piv:\n",
    "            listA.append(i)\n",
    "        else:\n",
    "            listB.append(i)\n",
    "\n",
    "    return qSort(listA) + [piv] + qSort(listB)\n",
    "\n",
    "list1 = [1, 15, 9, 2, 20, 1, 5, 3]\n",
    "print(qSort(list1))\n"
   ]
  },
  {
   "cell_type": "markdown",
   "id": "4ca717cf",
   "metadata": {},
   "source": [
    "**2. Use a couple of parragraphs to explain the steps of divide and conquer:\n",
    "    how/where do you divide?\n",
    "    where/what do you conquer?\n",
    "    how/what do you combine?**"
   ]
  },
  {
   "cell_type": "markdown",
   "id": "3b4f8e60",
   "metadata": {},
   "source": [
    "Divide and conquer es un algoritmo qué básicamente consiste en dividir un problema complejo en subproblemas con menor complejidad y cada uno de ellos se resuelve de manera independiente; en el caso de requerirlo, los subproblemas también pueden dividirse y resolverse recursivamente. Posteriormente, todas las subsoluciones obtenidas se combinan para obtener la solución final del problema. Ahora bien los pasos del algortmo Divide and conquer son los siguientes:  \n",
    "        **1. Divide:** Consiste en escoger un pivote de un arreglo. Posteriormente, \n",
    "          los elementos menores al pivote seleccionado se ubican al lado izquiero y           los elementos mayores al pivote se colocan al lado deecho del pivote.   \n",
    "        **2. Conquer:** Se emplea recursión para ordenar el arreglo.  \n",
    "        **3. Combine:** Una vez que se ordenan los elementos, se combinan y se               forma el arreglo final ordenado."
   ]
  },
  {
   "cell_type": "markdown",
   "id": "836b77c6",
   "metadata": {},
   "source": [
    "**3. Analyze complexity**"
   ]
  },
  {
   "cell_type": "markdown",
   "id": "daaeb5ba",
   "metadata": {},
   "source": [
    "La función **Quick Sort** tiene una complejidad de espacio de $O(log(n))$. Por otro lado, tiene una complejidad de tiempo de $O(n^2)$."
   ]
  },
  {
   "cell_type": "markdown",
   "id": "75177884",
   "metadata": {},
   "source": [
    "# Exercise 3"
   ]
  },
  {
   "cell_type": "markdown",
   "id": "fabb0971",
   "metadata": {},
   "source": [
    "**1. Generate 1000 random permutations of arrays of integers between 1 to 10000.\n",
    "Execute merge sort and quick sort for each of the permutations**"
   ]
  },
  {
   "cell_type": "code",
   "execution_count": 17,
   "id": "120283a8",
   "metadata": {},
   "outputs": [
    {
     "name": "stdout",
     "output_type": "stream",
     "text": [
      "[2, 4, 5, 14, 16, 20]\n",
      "[-2, 2, 3, 5, 8, 9, 15]\n",
      "None\n",
      "None\n",
      "None\n",
      "None\n",
      "None\n",
      "None\n",
      "None\n",
      "None\n",
      "None\n",
      "None\n"
     ]
    }
   ],
   "source": [
    "import time\n",
    "import random\n",
    "\n",
    "import matplotlib.pyplot as plt\n",
    "\n",
    "def mergeSort(arr):\n",
    "    if len(arr) > 1:\n",
    "        mid = len(arr)//2\n",
    "        left = arr[:mid]\n",
    "        right = arr[mid:]\n",
    "        mergeSort(left)\n",
    "        mergeSort(right)\n",
    "        i = j = k = 0\n",
    " \n",
    "        while i < len(left) and j < len(right):\n",
    "            if left[i] <= right[j]:\n",
    "                arr[k] = left[i]\n",
    "                i += 1\n",
    "            else:\n",
    "                arr[k] = right[j]\n",
    "                j += 1\n",
    "            k += 1\n",
    " \n",
    "        while i < len(left):\n",
    "            arr[k] = left[i]\n",
    "            i += 1\n",
    "            k += 1\n",
    " \n",
    "        while j < len(right):\n",
    "            arr[k] = right[j]\n",
    "            j += 1\n",
    "            k += 1\n",
    "            \n",
    "def pt(array, low, high):\n",
    "    piv = array[high]\n",
    "\n",
    "    i = low - 1\n",
    "\n",
    "    for j in range(low, high):\n",
    "        if array[j] <= piv:\n",
    "            i = i + 1\n",
    "            (array[i], array[j]) = (array[j], array[i])\n",
    " \n",
    "    (array[i + 1], array[high]) = (array[high], array[i + 1])\n",
    "    return i + 1\n",
    " \n",
    "def qSort(array, low, high):\n",
    "    if low < high:\n",
    "        pi = pt(array, low, high)\n",
    "        qSort(array, low, pi - 1)\n",
    "        qSort(array, pi + 1, high)\n",
    "        \n",
    "arr = [20, 14, 16, 4, 2, 5]\n",
    "mergeSort(arr)\n",
    "print(arr)\n",
    "\n",
    "dat = [2, 9, 3, 5, 15, 8, -2]\n",
    "sz = len(dat)\n",
    "qSort(dat, 0, sz - 1)\n",
    "print(dat)\n",
    "\n",
    "def Nums():\n",
    "    arr = []\n",
    "    for i in range(0, 1000):\n",
    "        arr.append(random.randint(1,10000))\n",
    "    return arr\n",
    "\n",
    "def Arr():\n",
    "    arrTotal = []\n",
    "    for i in range(0, 100):\n",
    "        arrTotal.append(generateNums())\n",
    "    return arrTotal\n",
    "\n",
    "\n",
    "def MergeSort():\n",
    "    arr = Arr()\n",
    "    for i in arr:\n",
    "        mergeSort(i)\n",
    "\n",
    "\n",
    "def QuickSort():\n",
    "    arr1 = Arr()\n",
    "    for i in arr1:\n",
    "        quickSort(i, 0, len(i)-1)\n",
    "\n",
    "def Alg():\n",
    "    for i in range(0,5):\n",
    "        print(MergeSort())\n",
    "        print(QuickSort())\n",
    "\n",
    "\n",
    "Alg()"
   ]
  },
  {
   "cell_type": "markdown",
   "id": "a3440a0e",
   "metadata": {},
   "source": [
    "**2. Calculate the execution time of these runs, and compare them using the statistics of the measured executed time.\n",
    "Explain the differences. Which algorithm is better? When would you use each?**"
   ]
  },
  {
   "cell_type": "markdown",
   "id": "86479656",
   "metadata": {},
   "source": [
    "La mejor opción es emplear \"merge sort\", siempre y cuando se tenga un conjunto de números grande. Por otro lado, el algoritmo quick sort es útil cuando se tiene menos cantidad de datos."
   ]
  },
  {
   "cell_type": "markdown",
   "id": "838d8f58",
   "metadata": {},
   "source": [
    "# Exercise 4"
   ]
  },
  {
   "cell_type": "markdown",
   "id": "92483bb0",
   "metadata": {},
   "source": [
    "**4. Implement factorials with recursion**"
   ]
  },
  {
   "cell_type": "code",
   "execution_count": 32,
   "id": "1485cf6c",
   "metadata": {},
   "outputs": [
    {
     "data": {
      "image/png": "[encoded data removed]",
      "text/plain": [
       "<Figure size 432x288 with 1 Axes>"
      ]
     },
     "metadata": {
      "needs_background": "light"
     },
     "output_type": "display_data"
    }
   ],
   "source": [
    "import time\n",
    "import matplotlib.pyplot as plt\n",
    "\n",
    "def t(func):\n",
    "    def wrapper(*args, **kwargs):\n",
    "        beginning = time.time() * 10 ** 3\n",
    "        result = func(*args, **kwargs)\n",
    "        time.sleep(0.0000000000000000000000001)\n",
    "        end = time.time() * 10 ** 3\n",
    "        return result, (end - beginning)\n",
    "\n",
    "    return wrapper\n",
    "\n",
    "\n",
    "@t\n",
    "def Factorial(n):\n",
    "    if n == 1:\n",
    "        return 1\n",
    "    return n * Factorial(n - 1)[0]\n",
    "\n",
    "\n",
    "@t\n",
    "def Factorial_mem(n):\n",
    "    cache = {}\n",
    "\n",
    "    def recursive_factorial(n):\n",
    "\n",
    "        if n in cache.keys():\n",
    "            return cache[n]\n",
    "        if n == 1:\n",
    "            return 1\n",
    "        else:\n",
    "            cache[n] = n * Factorial(n - 1)[0]\n",
    "            return cache[n]\n",
    "\n",
    "    return recursive_factorial(n)\n",
    "\n",
    "\n",
    "def main():\n",
    "    time = [Factorial(i)[1] for i in range(1, 350)]\n",
    "    mem_time = [Factorial_mem(i)[1] for i in range(1,350)]\n",
    "    plt.plot(time, label=\"Normal Factorial\")\n",
    "    plt.plot(mem_time, label=\"Factorial with Memoization\")\n",
    "    plt.legend()\n",
    "    plt.grid()\n",
    "    plt.show()\n",
    "\n",
    "if __name__ == \"__main__\":\n",
    "    main()"
   ]
  },
  {
   "cell_type": "markdown",
   "id": "81a52614",
   "metadata": {},
   "source": [
    "La complejidad de tiempo es $O(n)$ y la complejidad de espacio es O(n)."
   ]
  },
  {
   "cell_type": "markdown",
   "id": "877f1989",
   "metadata": {},
   "source": [
    "# References:"
   ]
  },
  {
   "cell_type": "markdown",
   "id": "30867775",
   "metadata": {},
   "source": [
    "* GeeksforGeeks | A computer science portal for geeks. (s. f.). GeeksforGeeks. https://www.geeksforgeeks.org\n"
   ]
  }
 ],
 "metadata": {
  "kernelspec": {
   "display_name": "Python 3 (ipykernel)",
   "language": "python",
   "name": "python3"
  },
  "language_info": {
   "codemirror_mode": {
    "name": "ipython",
    "version": 3
   },
   "file_extension": ".py",
   "mimetype": "text/x-python",
   "name": "python",
   "nbconvert_exporter": "python",
   "pygments_lexer": "ipython3",
   "version": "3.9.12"
  }
 },
 "nbformat": 4,
 "nbformat_minor": 5
}
