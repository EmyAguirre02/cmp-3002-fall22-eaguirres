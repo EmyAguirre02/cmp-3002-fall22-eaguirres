{
 "cells": [
  {
   "cell_type": "code",
   "execution_count": 6,
   "id": "eb5090de",
   "metadata": {},
   "outputs": [
    {
     "name": "stdout",
     "output_type": "stream",
     "text": [
      "Is Binary Search Tree\n"
     ]
    }
   ],
   "source": [
    "mx = 4294967296\n",
    "mn = -4294967296\n",
    "\n",
    "\n",
    "class Node:\n",
    "\n",
    "    def __init__(self, data):\n",
    "        self.data = data\n",
    "        self.left = None\n",
    "        self.right = None\n",
    "\n",
    "def BinaryST(node):\n",
    "    return (BinarySTUtil(node, mn,mx))\n",
    "\n",
    "def BinarySTUtil(node, min, max):\n",
    "\n",
    "    if node is None:\n",
    "        return True\n",
    "\n",
    "    if node.data < min or node.data > max:\n",
    "        return False\n",
    "\n",
    "\n",
    "    return (BinarySTUtil(node.left, min, node.data - 1) and\n",
    "            BinarySTUtil(node.right, node.data+1, max))\n",
    "\n",
    "if __name__ == \"__main__\":\n",
    "    root = Node(4)\n",
    "    root.left = Node(2)\n",
    "    root.right = Node(5)\n",
    "    root.left.left = Node(1)\n",
    "    root.left.right = Node(3)\n",
    "\n",
    "if (BinaryST(root)):\n",
    "    print(\"Is Binary Search Tree\")\n",
    "else:\n",
    "    print(\"Not a Binary Search Tree\")\n"
   ]
  },
  {
   "cell_type": "code",
   "execution_count": null,
   "id": "25639679",
   "metadata": {},
   "outputs": [],
   "source": []
  }
 ],
 "metadata": {
  "kernelspec": {
   "display_name": "Python 3 (ipykernel)",
   "language": "python",
   "name": "python3"
  },
  "language_info": {
   "codemirror_mode": {
    "name": "ipython",
    "version": 3
   },
   "file_extension": ".py",
   "mimetype": "text/x-python",
   "name": "python",
   "nbconvert_exporter": "python",
   "pygments_lexer": "ipython3",
   "version": "3.9.12"
  }
 },
 "nbformat": 4,
 "nbformat_minor": 5
}
